{
 "cells": [
  {
   "cell_type": "code",
   "execution_count": 9,
   "metadata": {},
   "outputs": [
    {
     "data": {
      "text/plain": [
       "[<matplotlib.lines.Line2D at 0x7f981f400a50>]"
      ]
     },
     "execution_count": 9,
     "metadata": {},
     "output_type": "execute_result"
    },
    {
     "data": {
      "image/png": "[encoded data removed]",
      "text/plain": [
       "<Figure size 432x288 with 1 Axes>"
      ]
     },
     "metadata": {
      "needs_background": "light"
     },
     "output_type": "display_data"
    }
   ],
   "source": [
    "import numpy as np\n",
    "import matplotlib.pyplot as plt\n",
    "\n",
    "m_sun = 2e+30\n",
    "r = 5.3e+12\n",
    "G = 6.67e-11\n",
    "m_1 = 2e+30\n",
    "m_2 = 4e+30\n",
    "grav_c = G*m_1*m_2\n",
    "period = 365*24*60*60\n",
    "\n",
    "# positions of the two stars\n",
    "x_1 = 0\n",
    "y_1 = 0\n",
    "z_1 = 0\n",
    "x_2 = 1.5e+11\n",
    "y_2 = 0\n",
    "z_2 = 0\n",
    "\n",
    "# velocities of the two stars\n",
    "Vx_1 = 0\n",
    "Vy_1 = 0\n",
    "Vz_1 = 0\n",
    "Vx_2 = 0\n",
    "Vy_2 = 10000\n",
    "Vz_2 = 0\n",
    "\n",
    "t = 0\n",
    "daysec = 24*60*60\n",
    "h = 0.01*daysec\n",
    "\n",
    "x1list = []\n",
    "y1list = []\n",
    "z1list = []\n",
    "\n",
    "x2list = []\n",
    "y2list = []\n",
    "z2list = []\n",
    "\n",
    "while t < 1000*daysec:\n",
    "    \n",
    "    rx = x_2 - x_1\n",
    "    ry = y_2 - y_1\n",
    "    rz = z_2 - z_1\n",
    "    \n",
    "    r3 = (rx**2 + ry**2 + rz**2)**1.5\n",
    "    \n",
    "    fx = -grav_c*rx/r3\n",
    "    fy = -grav_c*ry/r3\n",
    "    fz = -grav_c*rz/r3\n",
    "    \n",
    "    Vx_1 = Vx_1 - fx*h/m_1\n",
    "    Vy_1 = Vy_1 - fy*h/m_1\n",
    "    Vz_1 = Vz_1 - fz*h/m_1\n",
    "    \n",
    "    x_1 = Vx_1*h\n",
    "    y_1 = Vy_1*h\n",
    "    z_1 = Vz_1*h\n",
    "    \n",
    "    x1list.append(x_1)\n",
    "    y1list.append(y_1)\n",
    "    z1list.append(z_1)\n",
    "    \n",
    "    Vx_2 = Vx_2 + fx*h/m_2\n",
    "    Vy_2 = Vy_2 + fy*h/m_2\n",
    "    Vz_2 = Vz_2 + fz*h/m_2\n",
    "    \n",
    "    x_2 = Vx_2*h\n",
    "    y_2 = Vy_2*h\n",
    "    z_2 = Vz_2*h\n",
    "    \n",
    "    x2list.append(x_2)\n",
    "    y2list.append(y_2)\n",
    "    z2list.append(z_2)\n",
    "    \n",
    "    t = t + h\n",
    "    \n",
    "plt.plot(x1list,y1list)\n",
    "plt.plot(x2list,y2list)\n",
    "\n"
   ]
  },
  {
   "cell_type": "code",
   "execution_count": null,
   "metadata": {},
   "outputs": [],
   "source": []
  }
 ],
 "metadata": {
  "kernelspec": {
   "display_name": "Python 3",
   "language": "python",
   "name": "python3"
  },
  "language_info": {
   "codemirror_mode": {
    "name": "ipython",
    "version": 3
   },
   "file_extension": ".py",
   "mimetype": "text/x-python",
   "name": "python",
   "nbconvert_exporter": "python",
   "pygments_lexer": "ipython3",
   "version": "3.7.6"
  }
 },
 "nbformat": 4,
 "nbformat_minor": 4
}
